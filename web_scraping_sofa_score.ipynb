{
 "cells": [
  {
   "cell_type": "code",
   "execution_count": null,
   "metadata": {},
   "outputs": [],
   "source": [
    "#pip install requests pandas"
   ]
  },
  {
   "cell_type": "code",
   "execution_count": 3,
   "metadata": {},
   "outputs": [],
   "source": [
    "import requests\n",
    "import pandas as pd"
   ]
  },
  {
   "cell_type": "code",
   "execution_count": 16,
   "metadata": {},
   "outputs": [
    {
     "name": "stdout",
     "output_type": "stream",
     "text": [
      "[{'Period': 'ALL', 'Group': 'Match overview', 'Statistic': 'Ball possession', 'Home': '37%', 'Away': '63%'}, {'Period': 'ALL', 'Group': 'Match overview', 'Statistic': 'Expected goals', 'Home': '1.53', 'Away': '0.44'}, {'Period': 'ALL', 'Group': 'Match overview', 'Statistic': 'Big chances', 'Home': '3', 'Away': '0'}, {'Period': 'ALL', 'Group': 'Match overview', 'Statistic': 'Total shots', 'Home': '11', 'Away': '9'}, {'Period': 'ALL', 'Group': 'Match overview', 'Statistic': 'Goalkeeper saves', 'Home': '3', 'Away': '3'}, {'Period': 'ALL', 'Group': 'Match overview', 'Statistic': 'Corner kicks', 'Home': '2', 'Away': '1'}, {'Period': 'ALL', 'Group': 'Match overview', 'Statistic': 'Fouls', 'Home': '13', 'Away': '9'}, {'Period': 'ALL', 'Group': 'Match overview', 'Statistic': 'Passes', 'Home': '382', 'Away': '655'}, {'Period': 'ALL', 'Group': 'Match overview', 'Statistic': 'Tackles', 'Home': '24', 'Away': '24'}, {'Period': 'ALL', 'Group': 'Match overview', 'Statistic': 'Free kicks', 'Home': '9', 'Away': '10'}, {'Period': 'ALL', 'Group': 'Match overview', 'Statistic': 'Yellow cards', 'Home': '2', 'Away': '1'}, {'Period': 'ALL', 'Group': 'Match overview', 'Statistic': 'Red cards', 'Home': '1', 'Away': '0'}, {'Period': 'ALL', 'Group': 'Shots', 'Statistic': 'Total shots', 'Home': '11', 'Away': '9'}, {'Period': 'ALL', 'Group': 'Shots', 'Statistic': 'Shots on target', 'Home': '7', 'Away': '4'}, {'Period': 'ALL', 'Group': 'Shots', 'Statistic': 'Hit woodwork', 'Home': '0', 'Away': '0'}, {'Period': 'ALL', 'Group': 'Shots', 'Statistic': 'Shots off target', 'Home': '1', 'Away': '2'}, {'Period': 'ALL', 'Group': 'Shots', 'Statistic': 'Blocked shots', 'Home': '3', 'Away': '3'}, {'Period': 'ALL', 'Group': 'Shots', 'Statistic': 'Shots inside box', 'Home': '9', 'Away': '3'}, {'Period': 'ALL', 'Group': 'Shots', 'Statistic': 'Shots outside box', 'Home': '2', 'Away': '6'}, {'Period': 'ALL', 'Group': 'Attack', 'Statistic': 'Big chances scored', 'Home': '2', 'Away': '0'}, {'Period': 'ALL', 'Group': 'Attack', 'Statistic': 'Big chances missed', 'Home': '1', 'Away': '0'}, {'Period': 'ALL', 'Group': 'Attack', 'Statistic': 'Through balls', 'Home': '1', 'Away': '0'}, {'Period': 'ALL', 'Group': 'Attack', 'Statistic': 'Touches in penalty area', 'Home': '22', 'Away': '13'}, {'Period': 'ALL', 'Group': 'Attack', 'Statistic': 'Fouled in final third', 'Home': '2', 'Away': '2'}, {'Period': 'ALL', 'Group': 'Attack', 'Statistic': 'Offsides', 'Home': '3', 'Away': '4'}, {'Period': 'ALL', 'Group': 'Passes', 'Statistic': 'Accurate passes', 'Home': '314', 'Away': '590'}, {'Period': 'ALL', 'Group': 'Passes', 'Statistic': 'Throw-ins', 'Home': '17', 'Away': '11'}, {'Period': 'ALL', 'Group': 'Passes', 'Statistic': 'Final third entries', 'Home': '63', 'Away': '65'}, {'Period': 'ALL', 'Group': 'Passes', 'Statistic': 'Final third phase', 'Home': '64/105 (61%)', 'Away': '103/137 (75%)'}, {'Period': 'ALL', 'Group': 'Passes', 'Statistic': 'Long balls', 'Home': '27/56 (48%)', 'Away': '18/32 (56%)'}, {'Period': 'ALL', 'Group': 'Passes', 'Statistic': 'Crosses', 'Home': '1/5 (20%)', 'Away': '3/13 (23%)'}, {'Period': 'ALL', 'Group': 'Duels', 'Statistic': 'Duels', 'Home': '53%', 'Away': '47%'}, {'Period': 'ALL', 'Group': 'Duels', 'Statistic': 'Dispossessed', 'Home': '9', 'Away': '13'}, {'Period': 'ALL', 'Group': 'Duels', 'Statistic': 'Ground duels', 'Home': '50/92 (54%)', 'Away': '42/92 (46%)'}, {'Period': 'ALL', 'Group': 'Duels', 'Statistic': 'Aerial duels', 'Home': '6/13 (46%)', 'Away': '7/13 (54%)'}, {'Period': 'ALL', 'Group': 'Duels', 'Statistic': 'Dribbles', 'Home': '17/32 (53%)', 'Away': '8/19 (42%)'}, {'Period': 'ALL', 'Group': 'Defending', 'Statistic': 'Tackles won', 'Home': '83%', 'Away': '63%'}, {'Period': 'ALL', 'Group': 'Defending', 'Statistic': 'Total tackles', 'Home': '24', 'Away': '24'}, {'Period': 'ALL', 'Group': 'Defending', 'Statistic': 'Interceptions', 'Home': '10', 'Away': '10'}, {'Period': 'ALL', 'Group': 'Defending', 'Statistic': 'Recoveries', 'Home': '55', 'Away': '55'}, {'Period': 'ALL', 'Group': 'Defending', 'Statistic': 'Clearances', 'Home': '15', 'Away': '11'}, {'Period': 'ALL', 'Group': 'Goalkeeping', 'Statistic': 'Total saves', 'Home': '3', 'Away': '3'}, {'Period': 'ALL', 'Group': 'Goalkeeping', 'Statistic': 'Goals prevented', 'Home': '-0.48', 'Away': '-0.85'}, {'Period': 'ALL', 'Group': 'Goalkeeping', 'Statistic': 'Goal kicks', 'Home': '3', 'Away': '4'}, {'Period': '1ST', 'Group': 'Match overview', 'Statistic': 'Ball possession', 'Home': '42%', 'Away': '58%'}, {'Period': '1ST', 'Group': 'Match overview', 'Statistic': 'Expected goals', 'Home': '0.44', 'Away': '0.16'}, {'Period': '1ST', 'Group': 'Match overview', 'Statistic': 'Big chances', 'Home': '0', 'Away': '0'}, {'Period': '1ST', 'Group': 'Match overview', 'Statistic': 'Total shots', 'Home': '8', 'Away': '4'}, {'Period': '1ST', 'Group': 'Match overview', 'Statistic': 'Goalkeeper saves', 'Home': '1', 'Away': '2'}, {'Period': '1ST', 'Group': 'Match overview', 'Statistic': 'Corner kicks', 'Home': '2', 'Away': '0'}, {'Period': '1ST', 'Group': 'Match overview', 'Statistic': 'Passes', 'Home': '219', 'Away': '301'}, {'Period': '1ST', 'Group': 'Match overview', 'Statistic': 'Tackles', 'Home': '7', 'Away': '9'}, {'Period': '1ST', 'Group': 'Match overview', 'Statistic': 'Free kicks', 'Home': '3', 'Away': '5'}, {'Period': '1ST', 'Group': 'Match overview', 'Statistic': 'Yellow cards', 'Home': '2', 'Away': '1'}, {'Period': '1ST', 'Group': 'Match overview', 'Statistic': 'Red cards', 'Home': '0', 'Away': '0'}, {'Period': '1ST', 'Group': 'Shots', 'Statistic': 'Total shots', 'Home': '8', 'Away': '4'}, {'Period': '1ST', 'Group': 'Shots', 'Statistic': 'Shots on target', 'Home': '4', 'Away': '2'}, {'Period': '1ST', 'Group': 'Shots', 'Statistic': 'Hit woodwork', 'Home': '0', 'Away': '0'}, {'Period': '1ST', 'Group': 'Shots', 'Statistic': 'Shots off target', 'Home': '1', 'Away': '1'}, {'Period': '1ST', 'Group': 'Shots', 'Statistic': 'Blocked shots', 'Home': '3', 'Away': '1'}, {'Period': '1ST', 'Group': 'Shots', 'Statistic': 'Shots inside box', 'Home': '6', 'Away': '0'}, {'Period': '1ST', 'Group': 'Shots', 'Statistic': 'Shots outside box', 'Home': '2', 'Away': '4'}, {'Period': '1ST', 'Group': 'Attack', 'Statistic': 'Big chances scored', 'Home': '0', 'Away': '0'}, {'Period': '1ST', 'Group': 'Attack', 'Statistic': 'Big chances missed', 'Home': '0', 'Away': '0'}, {'Period': '1ST', 'Group': 'Attack', 'Statistic': 'Through balls', 'Home': '1', 'Away': '0'}, {'Period': '1ST', 'Group': 'Attack', 'Statistic': 'Fouled in final third', 'Home': '1', 'Away': '0'}, {'Period': '1ST', 'Group': 'Attack', 'Statistic': 'Offsides', 'Home': '1', 'Away': '3'}, {'Period': '1ST', 'Group': 'Passes', 'Statistic': 'Accurate passes', 'Home': '191', 'Away': '277'}, {'Period': '1ST', 'Group': 'Passes', 'Statistic': 'Throw-ins', 'Home': '11', 'Away': '3'}, {'Period': '1ST', 'Group': 'Passes', 'Statistic': 'Final third entries', 'Home': '30', 'Away': '16'}, {'Period': '1ST', 'Group': 'Passes', 'Statistic': 'Long balls', 'Home': '15/24 (63%)', 'Away': '5/12 (42%)'}, {'Period': '1ST', 'Group': 'Passes', 'Statistic': 'Crosses', 'Home': '1/4 (25%)', 'Away': '2/5 (40%)'}, {'Period': '1ST', 'Group': 'Duels', 'Statistic': 'Duels', 'Home': '48%', 'Away': '52%'}, {'Period': '1ST', 'Group': 'Duels', 'Statistic': 'Dispossessed', 'Home': '3', 'Away': '4'}, {'Period': '1ST', 'Group': 'Duels', 'Statistic': 'Ground duels', 'Home': '17/38 (45%)', 'Away': '21/38 (55%)'}, {'Period': '1ST', 'Group': 'Duels', 'Statistic': 'Aerial duels', 'Home': '3/4 (75%)', 'Away': '1/4 (25%)'}, {'Period': '1ST', 'Group': 'Duels', 'Statistic': 'Dribbles', 'Home': '7/13 (54%)', 'Away': '7/10 (70%)'}, {'Period': '1ST', 'Group': 'Defending', 'Statistic': 'Tackles won', 'Home': '57%', 'Away': '78%'}, {'Period': '1ST', 'Group': 'Defending', 'Statistic': 'Total tackles', 'Home': '7', 'Away': '9'}, {'Period': '1ST', 'Group': 'Defending', 'Statistic': 'Interceptions', 'Home': '2', 'Away': '4'}, {'Period': '1ST', 'Group': 'Defending', 'Statistic': 'Recoveries', 'Home': '16', 'Away': '19'}, {'Period': '1ST', 'Group': 'Defending', 'Statistic': 'Clearances', 'Home': '5', 'Away': '10'}, {'Period': '1ST', 'Group': 'Goalkeeping', 'Statistic': 'Total saves', 'Home': '1', 'Away': '2'}, {'Period': '1ST', 'Group': 'Goalkeeping', 'Statistic': 'Goal kicks', 'Home': '2', 'Away': '2'}, {'Period': '2ND', 'Group': 'Match overview', 'Statistic': 'Ball possession', 'Home': '31%', 'Away': '69%'}, {'Period': '2ND', 'Group': 'Match overview', 'Statistic': 'Expected goals', 'Home': '1.09', 'Away': '0.28'}, {'Period': '2ND', 'Group': 'Match overview', 'Statistic': 'Big chances', 'Home': '3', 'Away': '0'}, {'Period': '2ND', 'Group': 'Match overview', 'Statistic': 'Total shots', 'Home': '3', 'Away': '5'}, {'Period': '2ND', 'Group': 'Match overview', 'Statistic': 'Goalkeeper saves', 'Home': '2', 'Away': '1'}, {'Period': '2ND', 'Group': 'Match overview', 'Statistic': 'Corner kicks', 'Home': '0', 'Away': '1'}, {'Period': '2ND', 'Group': 'Match overview', 'Statistic': 'Passes', 'Home': '163', 'Away': '354'}, {'Period': '2ND', 'Group': 'Match overview', 'Statistic': 'Tackles', 'Home': '17', 'Away': '15'}, {'Period': '2ND', 'Group': 'Match overview', 'Statistic': 'Free kicks', 'Home': '6', 'Away': '5'}, {'Period': '2ND', 'Group': 'Match overview', 'Statistic': 'Yellow cards', 'Home': '0', 'Away': '0'}, {'Period': '2ND', 'Group': 'Match overview', 'Statistic': 'Red cards', 'Home': '1', 'Away': '0'}, {'Period': '2ND', 'Group': 'Shots', 'Statistic': 'Total shots', 'Home': '3', 'Away': '5'}, {'Period': '2ND', 'Group': 'Shots', 'Statistic': 'Shots on target', 'Home': '3', 'Away': '2'}, {'Period': '2ND', 'Group': 'Shots', 'Statistic': 'Hit woodwork', 'Home': '0', 'Away': '0'}, {'Period': '2ND', 'Group': 'Shots', 'Statistic': 'Shots off target', 'Home': '0', 'Away': '1'}, {'Period': '2ND', 'Group': 'Shots', 'Statistic': 'Blocked shots', 'Home': '0', 'Away': '2'}, {'Period': '2ND', 'Group': 'Shots', 'Statistic': 'Shots inside box', 'Home': '3', 'Away': '3'}, {'Period': '2ND', 'Group': 'Shots', 'Statistic': 'Shots outside box', 'Home': '0', 'Away': '2'}, {'Period': '2ND', 'Group': 'Attack', 'Statistic': 'Big chances scored', 'Home': '2', 'Away': '0'}, {'Period': '2ND', 'Group': 'Attack', 'Statistic': 'Big chances missed', 'Home': '1', 'Away': '0'}, {'Period': '2ND', 'Group': 'Attack', 'Statistic': 'Through balls', 'Home': '0', 'Away': '0'}, {'Period': '2ND', 'Group': 'Attack', 'Statistic': 'Fouled in final third', 'Home': '1', 'Away': '2'}, {'Period': '2ND', 'Group': 'Attack', 'Statistic': 'Offsides', 'Home': '2', 'Away': '1'}, {'Period': '2ND', 'Group': 'Passes', 'Statistic': 'Accurate passes', 'Home': '123', 'Away': '313'}, {'Period': '2ND', 'Group': 'Passes', 'Statistic': 'Throw-ins', 'Home': '6', 'Away': '8'}, {'Period': '2ND', 'Group': 'Passes', 'Statistic': 'Final third entries', 'Home': '33', 'Away': '49'}, {'Period': '2ND', 'Group': 'Passes', 'Statistic': 'Long balls', 'Home': '12/32 (38%)', 'Away': '13/20 (65%)'}, {'Period': '2ND', 'Group': 'Passes', 'Statistic': 'Crosses', 'Home': '0/1 (0%)', 'Away': '1/8 (13%)'}, {'Period': '2ND', 'Group': 'Duels', 'Statistic': 'Duels', 'Home': '57%', 'Away': '43%'}, {'Period': '2ND', 'Group': 'Duels', 'Statistic': 'Dispossessed', 'Home': '6', 'Away': '9'}, {'Period': '2ND', 'Group': 'Duels', 'Statistic': 'Ground duels', 'Home': '33/54 (61%)', 'Away': '21/54 (39%)'}, {'Period': '2ND', 'Group': 'Duels', 'Statistic': 'Aerial duels', 'Home': '3/9 (33%)', 'Away': '6/9 (67%)'}, {'Period': '2ND', 'Group': 'Duels', 'Statistic': 'Dribbles', 'Home': '10/19 (53%)', 'Away': '1/9 (11%)'}, {'Period': '2ND', 'Group': 'Defending', 'Statistic': 'Tackles won', 'Home': '94%', 'Away': '53%'}, {'Period': '2ND', 'Group': 'Defending', 'Statistic': 'Total tackles', 'Home': '17', 'Away': '15'}, {'Period': '2ND', 'Group': 'Defending', 'Statistic': 'Interceptions', 'Home': '8', 'Away': '6'}, {'Period': '2ND', 'Group': 'Defending', 'Statistic': 'Recoveries', 'Home': '39', 'Away': '36'}, {'Period': '2ND', 'Group': 'Defending', 'Statistic': 'Clearances', 'Home': '10', 'Away': '1'}, {'Period': '2ND', 'Group': 'Goalkeeping', 'Statistic': 'Total saves', 'Home': '2', 'Away': '1'}, {'Period': '2ND', 'Group': 'Goalkeeping', 'Statistic': 'Goal kicks', 'Home': '1', 'Away': '2'}]\n",
      "    Period           Group         Statistic  Home  Away\n",
      "0      ALL  Match overview   Ball possession   37%   63%\n",
      "1      ALL  Match overview    Expected goals  1.53  0.44\n",
      "2      ALL  Match overview       Big chances     3     0\n",
      "3      ALL  Match overview       Total shots    11     9\n",
      "4      ALL  Match overview  Goalkeeper saves     3     3\n",
      "..     ...             ...               ...   ...   ...\n",
      "119    2ND       Defending     Interceptions     8     6\n",
      "120    2ND       Defending        Recoveries    39    36\n",
      "121    2ND       Defending        Clearances    10     1\n",
      "122    2ND     Goalkeeping       Total saves     2     1\n",
      "123    2ND     Goalkeeping        Goal kicks     1     2\n",
      "\n",
      "[124 rows x 5 columns]\n",
      "Dados exportados para futebol_stats.xlsx\n"
     ]
    }
   ],
   "source": [
    "url = 'https://www.sofascore.com/api/v1/event/12117241/statistics'\n",
    "\n",
    "headers = {\"User-Agent\":\"Mozilla/5.0 (Windows NT 10.0; Win64; x64) AppleWebKit/537.36 (KHTML, like Gecko) Chrome/130.0.0.0 Safari/537.36\"}\n",
    "\n",
    "response = requests.get(url, headers=headers)\n",
    "\n",
    "if(response.status_code == 200):\n",
    "    data = response.json()\n",
    "    \n",
    "    all_data = []\n",
    "    \n",
    "    for match_stat in data['statistics']:\n",
    "        #print(match_stat)\n",
    "        period = match_stat['period']\n",
    "        #print(period)\n",
    "        for g in match_stat['groups']:\n",
    "            group_name = g['groupName']\n",
    "           # print(group_name)\n",
    "            \n",
    "            for item in g['statisticsItems']:\n",
    "                stat_name = item.get('name')\n",
    "                home_value = item.get('home')\n",
    "                away_value = item.get('away')\n",
    "                \n",
    "\n",
    "               # print(f\"Stat:{stat_name} Home:{home_value} Away:{away_value} \\n\")\n",
    "                \n",
    "                all_data.append(\n",
    "                    {\n",
    "                        'Period': period,\n",
    "                        'Group': group_name,\n",
    "                        'Statistic': stat_name,\n",
    "                        'Home': home_value,\n",
    "                        'Away': away_value\n",
    "                    }\n",
    "                )\n",
    "    print(all_data)\n",
    "    \n",
    "    #df = pd.DataFrame(all_data, columns=['Period', 'Group', 'Statistic', 'Home', 'Away'])\n",
    "    df = pd.DataFrame(all_data)\n",
    "    print(df)\n",
    "    \n",
    "    excel_file = 'futebol_stats.xlsx'\n",
    "    df.to_excel(excel_file, index=False)\n",
    "    print(f'Dados exportados para {excel_file}')\n",
    "                \n",
    "            \n",
    "        \n",
    "        "
   ]
  }
 ],
 "metadata": {
  "kernelspec": {
   "display_name": "Python 3",
   "language": "python",
   "name": "python3"
  },
  "language_info": {
   "codemirror_mode": {
    "name": "ipython",
    "version": 3
   },
   "file_extension": ".py",
   "mimetype": "text/x-python",
   "name": "python",
   "nbconvert_exporter": "python",
   "pygments_lexer": "ipython3",
   "version": "3.12.5"
  }
 },
 "nbformat": 4,
 "nbformat_minor": 2
}
